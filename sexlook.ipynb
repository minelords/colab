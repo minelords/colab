{
  "cells": [
    {
      "cell_type": "code",
      "execution_count": null,
      "metadata": {
        "colab": {
          "base_uri": "https://localhost:8080/"
        },
        "id": "V3I3QHCHK2rB",
        "outputId": "48a4bb1b-68b0-478f-a4be-51df10c7f5e7"
      },
      "outputs": [],
      "source": [
        "%mkdir -p /content/_flask\n",
        "%cd /content/_flask\n",
        "!git clone https://github.com/minelords/colab.git\n",
        "%mv /content/_flask/colab/* /content/_flask/"
      ]
    },
    {
      "cell_type": "code",
      "execution_count": null,
      "metadata": {
        "colab": {
          "base_uri": "https://localhost:8080/"
        },
        "id": "Ju1NLXy9E884",
        "outputId": "b0d5d892-f421-49a6-aea5-69cd457579ee"
      },
      "outputs": [],
      "source": [
        "%cd /content\n",
        "!wget https://bin.equinox.io/c/bNyj1mQVY4c/ngrok-v3-stable-linux-amd64.tgz\n",
        "!tar -zxvf ngrok-v3-stable-linux-amd64.tgz"
      ]
    },
    {
      "cell_type": "code",
      "execution_count": null,
      "metadata": {
        "colab": {
          "base_uri": "https://localhost:8080/"
        },
        "id": "EE3VWbn68s7A",
        "outputId": "019d3f77-641a-47a5-c5bd-6130866f8645"
      },
      "outputs": [],
      "source": [
        "!/content/ngrok authtoken your token\n",
        "get_ipython().system_raw('./ngrok http 5000 &')\n",
        "! curl -s http://localhost:4040/api/tunnels | python3 -c \"import sys, json; print(json.load(sys.stdin)['tunnels'][0]['public_url'])\"\n",
        "!ls\n"
      ]
    },
    {
      "cell_type": "code",
      "execution_count": null,
      "metadata": {
        "colab": {
          "base_uri": "https://localhost:8080/"
        },
        "id": "lVFGBLLi-sO3",
        "outputId": "1d6fd153-0545-4e93-ad28-ffbe92626ee7"
      },
      "outputs": [],
      "source": [
        "%cd /content/_flask\n",
        "!pip3 install -r requirements.txt\n",
        "!python3 app.py"
      ]
    }
  ],
  "metadata": {
    "colab": {
      "provenance": []
    },
    "kernelspec": {
      "display_name": "Python 3",
      "name": "python3"
    },
    "language_info": {
      "name": "python"
    }
  },
  "nbformat": 4,
  "nbformat_minor": 0
}
